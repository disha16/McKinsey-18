{
 "cells": [
  {
   "cell_type": "code",
   "execution_count": 2,
   "metadata": {},
   "outputs": [
    {
     "name": "stdout",
     "output_type": "stream",
     "text": [
      "-0.505675651840294\n"
     ]
    }
   ],
   "source": [
    "from matplotlib import pyplot\n",
    "from statsmodels.graphics.tsaplots import plot_acf\n",
    "import numpy as np\n",
    "from scipy import stats\n",
    "def newtons_method(llf, llfd,lmb, tolerance=0.000001):\n",
    "    while True:\n",
    "        lmb1 = lmb - llf(lmb)/llfd(lmb)\n",
    "        t = abs(lmb1 - lmb)\n",
    "        if t < tolerance:\n",
    "            break\n",
    "        lmb = lmb1\n",
    "    return lmb\n",
    "\n",
    "x =np.asarray([2.,2.,3.,5.])\n",
    "def llf(lmb):\n",
    "    y =np.empty([4,],float)\n",
    "    N=4\n",
    "    for i in x:\n",
    "        i = float(i)\n",
    "        x1 = ((i**lmb)-1)/lmb\n",
    "        y = np.append(y,[x1],axis=0)\n",
    "    y1 = y[4:]\n",
    "    y1_mean = np.mean(y1, axis=0)\n",
    "    llf = (lmb - 1) * np.sum(np.log(x), axis=0)\n",
    "    llf -= N / 2.0 * np.log(np.sum((y1 - y1_mean)**2. / N))\n",
    "    return llf\n",
    "    \n",
    "def llfd(lmb):\n",
    "    y =np.empty([4,],float)\n",
    "    z =np.empty([4,],float)\n",
    "    N=4\n",
    "    for i in x:\n",
    "        i= float(i)\n",
    "        x1 = ((i**lmb)-1)/lmb\n",
    "        y = np.append(y,[x1],axis=0)\n",
    "    y1 = y[4:]\n",
    "    for i in np.nditer(x): \n",
    "        x2 = i**(lmb-1)\n",
    "        z = np.append(z,[x2],axis=0)\n",
    "    z1 = z[4:]\n",
    "    a = np.multiply(z1,y1)\n",
    "    llfd = -(N/2.0*(N/(np.sum((y1 - np.mean(y1))**2.)))*(2*np.sum(a)-(np.mean(y1)*np.sum(z1))))\n",
    "    return llfd\n",
    "   \n",
    "\n",
    "x = newtons_method(llf,llfd,lmb=1)\n",
    "print x"
   ]
  },
  {
   "cell_type": "code",
   "execution_count": null,
   "metadata": {},
   "outputs": [],
   "source": []
  }
 ],
 "metadata": {
  "kernelspec": {
   "display_name": "Python 2",
   "language": "python",
   "name": "python2"
  },
  "language_info": {
   "codemirror_mode": {
    "name": "ipython",
    "version": 2
   },
   "file_extension": ".py",
   "mimetype": "text/x-python",
   "name": "python",
   "nbconvert_exporter": "python",
   "pygments_lexer": "ipython2",
   "version": "2.7.15"
  }
 },
 "nbformat": 4,
 "nbformat_minor": 2
}
