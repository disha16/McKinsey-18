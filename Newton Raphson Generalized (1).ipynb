{
 "cells": [
  {
   "cell_type": "code",
   "execution_count": 11,
   "metadata": {},
   "outputs": [
    {
     "name": "stdout",
     "output_type": "stream",
     "text": [
      "0.8759675747239452\n"
     ]
    }
   ],
   "source": [
    "from matplotlib import pyplot\n",
    "from statsmodels.graphics.tsaplots import plot_acf\n",
    "import numpy as np\n",
    "import math\n",
    "import pandas as pd\n",
    "from scipy import stats\n",
    "import scipy\n",
    "def newtons_method(llf, llfd,lmb, tolerance=0.000001):\n",
    "    while True:\n",
    "        lmb1 = lmb - llf(lmb)/llfd(lmb)\n",
    "        t = abs(lmb1 - lmb)\n",
    "        if t < tolerance:\n",
    "            break\n",
    "        lmb = lmb1\n",
    "    return lmb\n",
    "df=pd.read_csv(\"C:\\Users\\Rawal Rawal\\Downloads\\salesdata.csv\")\n",
    "df.index=pd.to_datetime(df['Date'])\n",
    "series = df['Sales']\n",
    "x =np.array(series)\n",
    "len(x)\n",
    "def llf(lmb):\n",
    "    y =np.empty([len(x),],float)\n",
    "    N=len(x)\n",
    "    for i in x:\n",
    "        if lmb == 0:\n",
    "            i = float(i)\n",
    "            x1 = math.log(i)\n",
    "            y = np.append(y,[x1],axis=0)\n",
    "        else:\n",
    "            i = float(i)\n",
    "            x1 = ((i**lmb)-1)/lmb\n",
    "            y = np.append(y,[x1],axis=0)\n",
    "    y1 = y[len(x):]\n",
    "    y1_mean = np.mean(y1, axis=0)\n",
    "    llf = (lmb - 1) * np.sum(np.log(x), axis=0)\n",
    "    llf -= N / 2.0 * np.log(np.sum((y1 - y1_mean)**2. / N)) \n",
    "    return llf\n",
    "def llfd(lmb):\n",
    "        llfd=  (llf(lmb+0.000001) - llf(lmb))/0.000001\n",
    "        return llfd\n",
    "def llfdd(lmb):\n",
    "    llfdd=  (llfd(lmb+0.000001) - llfd(lmb))/0.000001\n",
    "    return llfdd\n",
    "lmbe = scipy.stats.boxcox_normmax(x)\n",
    "y= newtons_method(llfd,llfdd,lmb=lmbe)\n",
    "\n",
    "print (y)"
   ]
  },
  {
   "cell_type": "code",
   "execution_count": 9,
   "metadata": {},
   "outputs": [
    {
     "data": {
      "text/plain": [
       "(0.9345902232871635, 0.8759682281367331)"
      ]
     },
     "execution_count": 9,
     "metadata": {},
     "output_type": "execute_result"
    }
   ],
   "source": [
    "s2,s3 = stats.boxcox_normmax(x,method = 'all')\n",
    "s2,s3"
   ]
  },
  {
   "cell_type": "code",
   "execution_count": null,
   "metadata": {},
   "outputs": [],
   "source": []
  }
 ],
 "metadata": {
  "kernelspec": {
   "display_name": "Python 2",
   "language": "python",
   "name": "python2"
  },
  "language_info": {
   "codemirror_mode": {
    "name": "ipython",
    "version": 2
   },
   "file_extension": ".py",
   "mimetype": "text/x-python",
   "name": "python",
   "nbconvert_exporter": "python",
   "pygments_lexer": "ipython2",
   "version": "2.7.15"
  }
 },
 "nbformat": 4,
 "nbformat_minor": 2
}
