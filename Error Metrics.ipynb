{
 "cells": [
  {
   "cell_type": "code",
   "execution_count": null,
   "metadata": {},
   "outputs": [],
   "source": [
    "import numpy\n",
    "data1 = raw_input(\"Enter your data here -->    \")\n",
    "data = map(int, data1.split())\n",
    "forecast1 = raw_input(\"Enter your forecast here -->    \")\n",
    "forecast = map(int, forecast1.split())\n",
    "if len(forecast)==len(data):\n",
    "    error = [x1 - x2 for (x1, x2) in zip(forecast, data)]\n",
    "    me = numpy.mean(error)\n",
    "    errorabs = map(abs,error)\n",
    "    mae = numpy.mean(errorabs)\n",
    "    errorsq = map(lambda x : x**2, error)\n",
    "    mse = numpy.mean(errorsq)\n",
    "    errorpercent = map(lambda x,y: (x*100)/y, error,data)\n",
    "    mape = numpy.mean(errorpercent)\n",
    "    print mape\n",
    "else:\n",
    "    print (\"Please enter correct values\")"
   ]
  },
  {
   "cell_type": "code",
   "execution_count": null,
   "metadata": {},
   "outputs": [],
   "source": []
  }
 ],
 "metadata": {
  "kernelspec": {
   "display_name": "Python 2",
   "language": "python",
   "name": "python2"
  },
  "language_info": {
   "codemirror_mode": {
    "name": "ipython",
    "version": 2
   },
   "file_extension": ".py",
   "mimetype": "text/x-python",
   "name": "python",
   "nbconvert_exporter": "python",
   "pygments_lexer": "ipython2",
   "version": "2.7.15"
  }
 },
 "nbformat": 4,
 "nbformat_minor": 2
}
